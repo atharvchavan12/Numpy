{
 "cells": [
  {
   "cell_type": "code",
   "execution_count": null,
   "id": "648a95e0-0dba-42b1-a105-a333af9ea39a",
   "metadata": {},
   "outputs": [],
   "source": [
    "#1. What is a Python library? Why do we use Python libraries?\n",
    "\n",
    "->\n",
    "A Python library is a collection of modules or functions that extend the capabilities of the Python programming language. These libraries provide reusable code and pre-written functions that can be easily imported into Python scripts or programs, saving developers time and effort in implementing common tasks or functionalities.\n",
    "There are several reasons why we use Python libraries:\n",
    "1)Reusability: Python libraries contain pre-written code that can be reused in different projects or applications, reducing the need to write code from scratch.\n",
    "2)Efficiency: Libraries often provide optimized implementations of algorithms or functionalities, resulting in faster execution times compared to writing custom code.\n",
    "3)Community-driven: Python has a large and active community of developers who contribute to the development of various libraries. These libraries are often well-maintained, documented, and tested by the community.\n",
    "4)Domain-specific functionality: Many Python libraries are specialized for specific domains such as data science, web development, machine learning, scientific computing, etc. These libraries provide tools and functionalities tailored to the needs of those domains.\n",
    "5)Interoperability: Python libraries can often interact with other programming languages and platforms, allowing developers to integrate Python code into existing systems or workflows."
   ]
  },
  {
   "cell_type": "code",
   "execution_count": null,
   "id": "719271a2-9ade-4b40-9e9a-a5078233120d",
   "metadata": {},
   "outputs": [],
   "source": [
    "#2. What is the difference between Numpy array and List?\n",
    "1)Data Types: NumPy arrays can only contain elements of the same data type, whereas Python lists can hold elements of different data types.\n",
    "2)Performance: NumPy arrays are more efficient in terms of memory usage and computational speed compared to Python lists, especially for large datasets. This is because NumPy arrays are implemented in C and optimized for numerical operations.\n",
    "3)Functionality: NumPy arrays provide a wide range of mathematical functions and operations for array manipulation, such as element-wise addition, multiplication, trigonometric functions, linear algebra operations, etc. Python lists do not offer these functionalities natively.\n",
    "4)Size: NumPy arrays have a fixed size, meaning the size of a NumPy array cannot be changed once it is created. In contrast, Python lists are dynamic and can grow or shrink in size as elements are added or removed.\n",
    "5)Indexing and Slicing: Indexing and slicing operations are more convenient and efficient with NumPy arrays compared to Python lists. NumPy arrays support multidimensional indexing and slicing, whereas Python lists only support one-dimensional indexing and slicing.\n",
    "6)Memory Usage: NumPy arrays typically consume less memory compared to Python lists, especially for large datasets, because NumPy arrays store data more efficiently and have a fixed data type."
   ]
  },
  {
   "cell_type": "code",
   "execution_count": 10,
   "id": "9e22a25d-51fc-4a5c-b56f-3c03bb03c33d",
   "metadata": {},
   "outputs": [
    {
     "data": {
      "text/plain": [
       "array([[ 1,  2,  3,  4],\n",
       "       [ 5,  6,  7,  8],\n",
       "       [ 9, 10, 11, 12]])"
      ]
     },
     "execution_count": 10,
     "metadata": {},
     "output_type": "execute_result"
    }
   ],
   "source": [
    "#3. Find the shape, size and dimension of the following array?\n",
    "#[[1, 2, 3, 4]\n",
    "#5, 6, 7, 8],\n",
    "#[9, 10, 11, 12]]\n",
    "import numpy as np\n",
    "\n",
    "arr=np.array([[1,2,3,4],\n",
    "              [5,6,7,8],\n",
    "              [9,10,11,12]])\n",
    "arr\n"
   ]
  },
  {
   "cell_type": "code",
   "execution_count": 11,
   "id": "6948ccef-94c3-4a88-91f0-f510e5332658",
   "metadata": {},
   "outputs": [
    {
     "data": {
      "text/plain": [
       "(3, 4)"
      ]
     },
     "execution_count": 11,
     "metadata": {},
     "output_type": "execute_result"
    }
   ],
   "source": [
    "\n",
    "arr.shape"
   ]
  },
  {
   "cell_type": "code",
   "execution_count": 12,
   "id": "3d6e2a69-1932-4a33-a21c-53ddf0c86a54",
   "metadata": {},
   "outputs": [
    {
     "data": {
      "text/plain": [
       "12"
      ]
     },
     "execution_count": 12,
     "metadata": {},
     "output_type": "execute_result"
    }
   ],
   "source": [
    "arr.size"
   ]
  },
  {
   "cell_type": "code",
   "execution_count": 13,
   "id": "ff605ba4-58e5-4bd8-869a-529f51030220",
   "metadata": {},
   "outputs": [
    {
     "data": {
      "text/plain": [
       "2"
      ]
     },
     "execution_count": 13,
     "metadata": {},
     "output_type": "execute_result"
    }
   ],
   "source": [
    "arr.ndim"
   ]
  },
  {
   "cell_type": "code",
   "execution_count": 14,
   "id": "dc69943e-65ae-4dfb-8a29-fbe79f5d6bdd",
   "metadata": {},
   "outputs": [
    {
     "data": {
      "text/plain": [
       "array([1, 2, 3, 4])"
      ]
     },
     "execution_count": 14,
     "metadata": {},
     "output_type": "execute_result"
    }
   ],
   "source": [
    "\"\"\"4. Write python co^e to access the first row of the following array?\n",
    "[[1, 2, 3, 4]\n",
    "[5, 6, 7, 8],\n",
    "[9, 10, 11, 12]]\"\"\"\n",
    "first_row=arr[0]\n",
    "first_row"
   ]
  },
  {
   "cell_type": "code",
   "execution_count": 15,
   "id": "aa187eae-ce3b-4b87-b382-10963835d572",
   "metadata": {},
   "outputs": [
    {
     "name": "stdout",
     "output_type": "stream",
     "text": [
      "Element at third row and fourth column: 12\n"
     ]
    }
   ],
   "source": [
    "\"\"\"5. How do you access the element at the third row and fourth column from the given numpy array?\n",
    "[[1, 2, 3, 4]\n",
    "[5, 6, 7, 8],\n",
    "[9, 10, 11, 12]]\"\"\"\n",
    "\n",
    "\n",
    "element = arr[2, 3]\n",
    "print(\"Element at third row and fourth column:\", element)"
   ]
  },
  {
   "cell_type": "code",
   "execution_count": 16,
   "id": "a29f01ba-62fe-4a59-b09a-d575698f83dd",
   "metadata": {},
   "outputs": [
    {
     "name": "stdout",
     "output_type": "stream",
     "text": [
      "Elements at odd indices:\n",
      " [[ 2  4]\n",
      " [ 6  8]\n",
      " [10 12]]\n"
     ]
    }
   ],
   "source": [
    "\"\"\"6. Write code to extract all odd index elements from the given numpy array?\n",
    "[[1, 2, 3, 4]\n",
    "[5, 6, 7, 8],\n",
    "[9, 10, 11, 12]]\"\"\"\n",
    "odd_index_elements = arr[:, 1::2]  # Slice the array to get elements at odd indices\n",
    "print(\"Elements at odd indices:\\n\", odd_index_elements)"
   ]
  },
  {
   "cell_type": "code",
   "execution_count": 17,
   "id": "972f55a1-b5a0-47ff-b5e8-a2ec39c7b52a",
   "metadata": {},
   "outputs": [
    {
     "name": "stdout",
     "output_type": "stream",
     "text": [
      "Random 3x3 matrix:\n",
      " [[0.07718421 0.13381334 0.31427085]\n",
      " [0.14422464 0.07217347 0.15492382]\n",
      " [0.54014117 0.55868367 0.77738215]]\n"
     ]
    }
   ],
   "source": [
    "#7. How can you generate a random 3x3 matrix with values between 0 and 1?\n",
    "random_matrix = np.random.rand(3, 3)\n",
    "\n",
    "print(\"Random 3x3 matrix:\\n\", random_matrix)"
   ]
  },
  {
   "cell_type": "code",
   "execution_count": 18,
   "id": "c8dbd0fd-d2d0-4f0c-9172-53ff6b9d6f68",
   "metadata": {},
   "outputs": [
    {
     "name": "stdout",
     "output_type": "stream",
     "text": [
      "Random numbers from a uniform distribution:\n",
      " [[0.40346787 0.03805224]\n",
      " [0.40679547 0.88763295]]\n",
      "Random numbers from a standard normal distribution:\n",
      " [[-0.55877316 -1.54259874]\n",
      " [-1.08389848  0.12567556]]\n"
     ]
    }
   ],
   "source": [
    "#8. Describe the difference between np.random.rand and np.random.randn?\n",
    "\"\"\"The main difference between np.random.rand and np.random.randn lies in the distribution of the generated random numbers:\n",
    "1)np.random.rand: This function generates random numbers from a uniform distribution over the interval [0, 1). It takes the shape of the output array as input arguments and returns random numbers of that shape.\n",
    "2)np.random.randn: This function generates random numbers from a standard normal distribution (mean = 0, standard deviation = 1). It takes the shape of the output array as input arguments and returns random numbers of that shape.\n",
    "In summary:\n",
    "np.random.rand generates random numbers from a uniform distribution.\n",
    "np.random.randn generates random numbers from a standard normal distribution.\n",
    "\"\"\"\n",
    "import numpy as np\n",
    "\n",
    "# Generate random numbers from a uniform distribution\n",
    "uniform_random_numbers = np.random.rand(2, 2)\n",
    "print(\"Random numbers from a uniform distribution:\\n\", uniform_random_numbers)\n",
    "\n",
    "# Generate random numbers from a standard normal distribution\n",
    "normal_random_numbers = np.random.randn(2, 2)\n",
    "print(\"Random numbers from a standard normal distribution:\\n\", normal_random_numbers)\n"
   ]
  },
  {
   "cell_type": "code",
   "execution_count": 19,
   "id": "5281a3af-32ce-4b84-be2d-d1090239e391",
   "metadata": {},
   "outputs": [
    {
     "name": "stdout",
     "output_type": "stream",
     "text": [
      "[[[ 1  2  3  4]]\n",
      "\n",
      " [[ 5  6  7  8]]\n",
      "\n",
      " [[ 9 10 11 12]]]\n"
     ]
    }
   ],
   "source": [
    "\"\"\"9. Write code to increase the dimension of the following array?\n",
    "[[1, 2, 3, 4]\n",
    "[5, 6, 7, 8],\n",
    "[9, 10, 11, 12]]\"\"\"\n",
    "\n",
    "new_arr = np.expand_dims(arr, axis=1)\n",
    "print(new_arr)"
   ]
  },
  {
   "cell_type": "code",
   "execution_count": 20,
   "id": "c5255826-c903-45f1-9189-2a26c208d174",
   "metadata": {},
   "outputs": [
    {
     "name": "stdout",
     "output_type": "stream",
     "text": [
      "[[ 1  5  9]\n",
      " [ 2  6 10]\n",
      " [ 3  7 11]\n",
      " [ 4  8 12]]\n"
     ]
    }
   ],
   "source": [
    "\"\"\"10. How to transpose the following array in NumPy?\n",
    "[[1, 2, 3, 4]\n",
    "[5, 6, 7, 8],\n",
    "[9, 10, 11, 12]]\"\"\"\n",
    "\n",
    "transposed_arr = arr.T\n",
    "print(transposed_arr)"
   ]
  },
  {
   "cell_type": "code",
   "execution_count": 25,
   "id": "00dadd1e-6ac6-4b81-ace8-5e41ce015a2d",
   "metadata": {},
   "outputs": [],
   "source": [
    "\"\"\"11. Consider the following matrix:\n",
    "Matrix A: [[1, 2, 3, 4] [5, 6, 7, 8],[9, 10, 11, 12]]\n",
    "Matrix B: [[1, 2, 3, 4] [5, 6, 7, 8],[9, 10, 11, 12]]\n",
    "Perform the following operation using Python:\n",
    "1.index wise multiplication\n",
    "2.Matix multiplication\n",
    "3.Add both the matics\n",
    "4.Subtact matix B from A\n",
    "5.divide Matix B by A \"\"\"\n",
    "\n",
    "\n",
    "A=np.array([[1,2,3,4],[5,6,7,8],[9,10,11,12]])\n",
    "B=np.array([[1,2,3,4],[5,6,7,8],[9,10,11,12]])"
   ]
  },
  {
   "cell_type": "code",
   "execution_count": 26,
   "id": "96d6451e-c01f-402d-85c3-03a346b88eb6",
   "metadata": {},
   "outputs": [
    {
     "name": "stdout",
     "output_type": "stream",
     "text": [
      "Index-wise multiplication:\n",
      "[[  1   4   9  16]\n",
      " [ 25  36  49  64]\n",
      " [ 81 100 121 144]]\n"
     ]
    }
   ],
   "source": [
    "#1\n",
    "index_wise_multiplication = A * B\n",
    "print(\"Index-wise multiplication:\")\n",
    "print(index_wise_multiplication)"
   ]
  },
  {
   "cell_type": "code",
   "execution_count": 27,
   "id": "c8171756-b1cc-473b-8638-e5cdbf2ff4cf",
   "metadata": {},
   "outputs": [
    {
     "name": "stdout",
     "output_type": "stream",
     "text": [
      "Matrix multiplication:\n",
      "[[ 30  70 110]\n",
      " [ 70 174 278]\n",
      " [110 278 446]]\n"
     ]
    }
   ],
   "source": [
    "#2\n",
    "matrix_multiplication = np.dot(A, B.T)  # Transpose B to match dimensions\n",
    "print(\"Matrix multiplication:\")\n",
    "print(matrix_multiplication)"
   ]
  },
  {
   "cell_type": "code",
   "execution_count": 28,
   "id": "01e0bcc0-047d-4157-bdaa-075242912ca2",
   "metadata": {},
   "outputs": [
    {
     "name": "stdout",
     "output_type": "stream",
     "text": [
      "Matrix addition:\n",
      "[[ 2  4  6  8]\n",
      " [10 12 14 16]\n",
      " [18 20 22 24]]\n"
     ]
    }
   ],
   "source": [
    "#3\n",
    "matrix_addition = A + B\n",
    "print(\"Matrix addition:\")\n",
    "print(matrix_addition)"
   ]
  },
  {
   "cell_type": "code",
   "execution_count": 29,
   "id": "2ea6b27d-70ab-4c26-8eb9-390effd3e879",
   "metadata": {},
   "outputs": [
    {
     "name": "stdout",
     "output_type": "stream",
     "text": [
      "Matrix subtraction:\n",
      "[[0 0 0 0]\n",
      " [0 0 0 0]\n",
      " [0 0 0 0]]\n"
     ]
    }
   ],
   "source": [
    "#4\n",
    "matrix_subtraction = A - B\n",
    "print(\"Matrix subtraction:\")\n",
    "print(matrix_subtraction)"
   ]
  },
  {
   "cell_type": "code",
   "execution_count": 30,
   "id": "ee0bbe20-cb0a-48d3-8700-07a89619dc37",
   "metadata": {},
   "outputs": [
    {
     "name": "stdout",
     "output_type": "stream",
     "text": [
      "Matrix division:\n",
      "[[1. 1. 1. 1.]\n",
      " [1. 1. 1. 1.]\n",
      " [1. 1. 1. 1.]]\n"
     ]
    }
   ],
   "source": [
    "#5\n",
    "matrix_division = np.divide(B, A)\n",
    "print(\"Matrix division:\")\n",
    "print(matrix_division)"
   ]
  },
  {
   "cell_type": "code",
   "execution_count": 31,
   "id": "879ed051-fd3c-42aa-83f0-0308fd4d2a72",
   "metadata": {},
   "outputs": [
    {
     "name": "stdout",
     "output_type": "stream",
     "text": [
      "Original array:\n",
      "[1 2 3 4]\n",
      "\n",
      "Array with byte order swapped:\n",
      "[ 256  512  768 1024]\n"
     ]
    }
   ],
   "source": [
    "#Which function in Numpy can be used to swap the byte order of an array?\n",
    "\"\"\"\n",
    "NumPy, you can use the byteswap() function to swap the byte order of an array. This function swaps the byte order of the elements in the array. You can specify the byte order using the byteorder parameter.\"\"\"\n",
    "import numpy as np\n",
    "\n",
    "# Create an array with dtype int16\n",
    "arr = np.array([1, 2, 3, 4], dtype=np.int16)\n",
    "print(\"Original array:\")\n",
    "print(arr)\n",
    "\n",
    "# Swap byte order\n",
    "swapped_arr = arr.byteswap()\n",
    "print(\"\\nArray with byte order swapped:\")\n",
    "print(swapped_arr)\n"
   ]
  },
  {
   "cell_type": "code",
   "execution_count": null,
   "id": "390ec88f-8b61-471e-8e0a-7641dd89b7e3",
   "metadata": {},
   "outputs": [],
   "source": [
    "#13. What is the significance of the np.linalg.inv function?\n",
    "\"\"\"\n",
    "The np.linalg.inv function in NumPy is used to compute the inverse of a square matrix. The significance of this function lies in its usefulness in solving systems of linear equations, particularly when dealing with matrices.\n",
    "Here are some key points regarding the significance of np.linalg.inv:\n",
    "1)Matrix Inversion: The function calculates the inverse of a given square matrix. This is important because it allows us to find the solution to linear systems of equations in matrix form, which may not be easy or possible using other methods.\n",
    "2)Solving Linear Systems: In many scientific and engineering applications, linear systems of equations arise frequently. By computing the inverse of a matrix, we can solve these systems efficiently using matrix multiplication.\n",
    "3)Numerical Stability: The np.linalg.inv function is implemented with numerical stability in mind. It employs efficient algorithms to handle large matrices and maintains accuracy even for matrices with ill-conditioned or nearly singular properties.\n",
    "4)Applications in Statistics and Machine Learning: Matrix inversion is fundamental in various statistical and machine learning algorithms, such as linear regression, least squares estimation, and principal component analysis (PCA).\n",
    "\"\"\"\n",
    "\n"
   ]
  },
  {
   "cell_type": "code",
   "execution_count": null,
   "id": "8de98d19-c496-43de-bdbb-760127ced222",
   "metadata": {},
   "outputs": [],
   "source": [
    "#14. What does the np.reshape function do, and how is it used?\n",
    "\"\"\"The np.reshape function in NumPy is used to change the shape (dimensions) of an array without changing its data. It allows you to rearrange the elements of an array into a new shape while maintaining the same data.\n",
    "Here's how np.reshape works and how it's used:\n",
    "Changing Array Shape: The primary purpose of np.reshape is to change the shape of an array. You can specify the new shape as a tuple of integers representing the desired dimensions.\n",
    "1)Original Data: The data in the array remains unchanged after reshaping. The reshaping operation simply rearranges how the data is interpreted without modifying the underlying elements.\n",
    "2)Contiguous Data: Reshaping preserves the order of elements in the original array. For example, if the original array is stored in row-major order, the reshaped array will also maintain this order.\n",
    "3)Compatible Shape: The new shape specified must be compatible with the number of elements in the original array. In other words, the total number of elements in the original array must equal the total number of elements in the reshaped array.\n",
    "4)Usage: The np.reshape function is typically called as a method of a NumPy array \"\"\"\n"
   ]
  },
  {
   "cell_type": "code",
   "execution_count": 34,
   "id": "f95174b7-ae40-4582-8c22-2199a73edec9",
   "metadata": {},
   "outputs": [
    {
     "name": "stdout",
     "output_type": "stream",
     "text": [
      "[[11 22 33]\n",
      " [14 25 36]\n",
      " [17 28 39]]\n"
     ]
    }
   ],
   "source": [
    "#15. What is broadcasting in Numpy?\n",
    "\"\"\"     \n",
    "Broadcasting in NumPy is a powerful mechanism that allows arrays of different shapes to be combined or operated on together seamlessly. When performing element-wise operations between arrays, NumPy automatically broadcasts the arrays to make their shapes compatible if they don't have the same shape initially.\n",
    "Here's how broadcasting works in NumPy:\n",
    "1)Shape Compatibility: Broadcasting occurs when the dimensions of two arrays are compatible for element-wise operations. Two dimensions are compatible when either they are equal or one of them is 1.\n",
    "2)Automatic Expansion: NumPy automatically expands the smaller array along the missing dimensions to match the shape of the larger array. This expansion happens conceptually without actually creating multiple copies of the data in memory.\n",
    "3)Element-Wise Operations: After broadcasting, the element-wise operation is performed between the corresponding elements of the expanded arrays.\n",
    "4)Efficient Computation: Broadcasting allows for efficient computation by avoiding the need to create multiple copies of the array data. Instead, NumPy intelligently operates on the arrays without unnecessary memory overhead.\n",
    "5)Examples of Broadcasting: Broadcasting can be used in various scenarios, such as adding a scalar to an array, multiplying arrays of different shapes, or even combining arrays with different numbers of dimensions.\"\"\"\n",
    "\n",
    "arr1 = np.array([[1, 2, 3],\n",
    "                 [4, 5, 6],\n",
    "                 [7, 8, 9]])\n",
    "\n",
    "# Create a 1D array to be broadcasted\n",
    "arr2 = np.array([10, 20, 30])\n",
    "\n",
    "# Add the 1D array to each row of the 3x3 array\n",
    "result = arr1 + arr2\n",
    "\n",
    "print(result)"
   ]
  },
  {
   "cell_type": "code",
   "execution_count": null,
   "id": "569b0836-e321-4fd7-968f-6cfcdb32eb36",
   "metadata": {},
   "outputs": [],
   "source": []
  }
 ],
 "metadata": {
  "kernelspec": {
   "display_name": "Python 3 (ipykernel)",
   "language": "python",
   "name": "python3"
  },
  "language_info": {
   "codemirror_mode": {
    "name": "ipython",
    "version": 3
   },
   "file_extension": ".py",
   "mimetype": "text/x-python",
   "name": "python",
   "nbconvert_exporter": "python",
   "pygments_lexer": "ipython3",
   "version": "3.12.2"
  }
 },
 "nbformat": 4,
 "nbformat_minor": 5
}
